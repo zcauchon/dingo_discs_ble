{
 "cells": [
  {
   "cell_type": "code",
   "execution_count": 5,
   "metadata": {},
   "outputs": [],
   "source": [
    "data = '55:61:46:00:3d:00:0b:08:01:00:00:00:00:00:e8:00:49:ff:07:06'.split(':')"
   ]
  },
  {
   "cell_type": "code",
   "execution_count": 17,
   "metadata": {},
   "outputs": [],
   "source": [
    "from bleak import BleakClient\n",
    "DEVICE = \"F8:9C:FE:38:6E:5C\"\n",
    "LOCATION_ID = '0000ffe4-0000-1000-8000-00805f9a34fb'"
   ]
  },
  {
   "cell_type": "code",
   "execution_count": null,
   "metadata": {},
   "outputs": [],
   "source": []
  },
  {
   "cell_type": "code",
   "execution_count": 23,
   "metadata": {},
   "outputs": [
    {
     "ename": "AttributeError",
     "evalue": "__enter__",
     "output_type": "error",
     "traceback": [
      "\u001b[1;31m---------------------------------------------------------------------------\u001b[0m",
      "\u001b[1;31mAttributeError\u001b[0m                            Traceback (most recent call last)",
      "Cell \u001b[1;32mIn[23], line 1\u001b[0m\n\u001b[1;32m----> 1\u001b[0m \u001b[39mwith\u001b[39;00m BleakClient(DEVICE) \u001b[39mas\u001b[39;00m client:\n\u001b[0;32m      2\u001b[0m     resp \u001b[39m=\u001b[39m \u001b[39mawait\u001b[39;00m client\u001b[39m.\u001b[39mwrite_gatt_char(LOCATION_ID, data\u001b[39m=\u001b[39m\u001b[39mbytes\u001b[39m\u001b[39m.\u001b[39mfromhex(\u001b[39m'\u001b[39m\u001b[39mFF AA 27 64 00\u001b[39m\u001b[39m'\u001b[39m))\n\u001b[0;32m      3\u001b[0m     resp\n",
      "\u001b[1;31mAttributeError\u001b[0m: __enter__"
     ]
    }
   ],
   "source": [
    "with BleakClient(DEVICE) as client:\n",
    "    resp = await client.write_gatt_char(LOCATION_ID, data=bytes.fromhex('FF AA 27 64 00'))\n",
    "    resp"
   ]
  },
  {
   "cell_type": "code",
   "execution_count": 21,
   "metadata": {},
   "outputs": [
    {
     "ename": "BleakError",
     "evalue": "Not connected",
     "output_type": "error",
     "traceback": [
      "\u001b[1;31m---------------------------------------------------------------------------\u001b[0m",
      "\u001b[1;31mBleakError\u001b[0m                                Traceback (most recent call last)",
      "Cell \u001b[1;32mIn[21], line 1\u001b[0m\n\u001b[1;32m----> 1\u001b[0m resp \u001b[39m=\u001b[39m \u001b[39mawait\u001b[39;00m client\u001b[39m.\u001b[39mwrite_gatt_char(LOCATION_ID, data\u001b[39m=\u001b[39m\u001b[39mbytes\u001b[39m\u001b[39m.\u001b[39mfromhex(\u001b[39m'\u001b[39m\u001b[39mFF AA 27 64 00\u001b[39m\u001b[39m'\u001b[39m))\n\u001b[0;32m      2\u001b[0m resp\n",
      "File \u001b[1;32mc:\\Users\\zcauc\\Envs\\disc_sense\\lib\\site-packages\\bleak\\__init__.py:659\u001b[0m, in \u001b[0;36mBleakClient.write_gatt_char\u001b[1;34m(self, char_specifier, data, response)\u001b[0m\n\u001b[0;32m    639\u001b[0m \u001b[39masync\u001b[39;00m \u001b[39mdef\u001b[39;00m \u001b[39mwrite_gatt_char\u001b[39m(\n\u001b[0;32m    640\u001b[0m     \u001b[39mself\u001b[39m,\n\u001b[0;32m    641\u001b[0m     char_specifier: Union[BleakGATTCharacteristic, \u001b[39mint\u001b[39m, \u001b[39mstr\u001b[39m, uuid\u001b[39m.\u001b[39mUUID],\n\u001b[0;32m    642\u001b[0m     data: Union[\u001b[39mbytes\u001b[39m, \u001b[39mbytearray\u001b[39m, \u001b[39mmemoryview\u001b[39m],\n\u001b[0;32m    643\u001b[0m     response: \u001b[39mbool\u001b[39m \u001b[39m=\u001b[39m \u001b[39mFalse\u001b[39;00m,\n\u001b[0;32m    644\u001b[0m ) \u001b[39m-\u001b[39m\u001b[39m>\u001b[39m \u001b[39mNone\u001b[39;00m:\n\u001b[0;32m    645\u001b[0m \u001b[39m    \u001b[39m\u001b[39m\"\"\"\u001b[39;00m\n\u001b[0;32m    646\u001b[0m \u001b[39m    Perform a write operation on the specified GATT characteristic.\u001b[39;00m\n\u001b[0;32m    647\u001b[0m \n\u001b[1;32m   (...)\u001b[0m\n\u001b[0;32m    657\u001b[0m \n\u001b[0;32m    658\u001b[0m \u001b[39m    \"\"\"\u001b[39;00m\n\u001b[1;32m--> 659\u001b[0m     \u001b[39mawait\u001b[39;00m \u001b[39mself\u001b[39m\u001b[39m.\u001b[39m_backend\u001b[39m.\u001b[39mwrite_gatt_char(char_specifier, data, response)\n",
      "File \u001b[1;32mc:\\Users\\zcauc\\Envs\\disc_sense\\lib\\site-packages\\bleak\\backends\\winrt\\client.py:855\u001b[0m, in \u001b[0;36mBleakClientWinRT.write_gatt_char\u001b[1;34m(self, char_specifier, data, response)\u001b[0m\n\u001b[0;32m    844\u001b[0m \u001b[39m\u001b[39m\u001b[39m\"\"\"Perform a write operation of the specified GATT characteristic.\u001b[39;00m\n\u001b[0;32m    845\u001b[0m \n\u001b[0;32m    846\u001b[0m \u001b[39mArgs:\u001b[39;00m\n\u001b[1;32m   (...)\u001b[0m\n\u001b[0;32m    852\u001b[0m \n\u001b[0;32m    853\u001b[0m \u001b[39m\"\"\"\u001b[39;00m\n\u001b[0;32m    854\u001b[0m \u001b[39mif\u001b[39;00m \u001b[39mnot\u001b[39;00m \u001b[39mself\u001b[39m\u001b[39m.\u001b[39mis_connected:\n\u001b[1;32m--> 855\u001b[0m     \u001b[39mraise\u001b[39;00m BleakError(\u001b[39m\"\u001b[39m\u001b[39mNot connected\u001b[39m\u001b[39m\"\u001b[39m)\n\u001b[0;32m    857\u001b[0m \u001b[39mif\u001b[39;00m \u001b[39mnot\u001b[39;00m \u001b[39misinstance\u001b[39m(char_specifier, BleakGATTCharacteristic):\n\u001b[0;32m    858\u001b[0m     characteristic \u001b[39m=\u001b[39m \u001b[39mself\u001b[39m\u001b[39m.\u001b[39mservices\u001b[39m.\u001b[39mget_characteristic(char_specifier)\n",
      "\u001b[1;31mBleakError\u001b[0m: Not connected"
     ]
    }
   ],
   "source": []
  }
 ],
 "metadata": {
  "kernelspec": {
   "display_name": "disc_sense",
   "language": "python",
   "name": "python3"
  },
  "language_info": {
   "codemirror_mode": {
    "name": "ipython",
    "version": 3
   },
   "file_extension": ".py",
   "mimetype": "text/x-python",
   "name": "python",
   "nbconvert_exporter": "python",
   "pygments_lexer": "ipython3",
   "version": "3.9.9"
  },
  "orig_nbformat": 4
 },
 "nbformat": 4,
 "nbformat_minor": 2
}
