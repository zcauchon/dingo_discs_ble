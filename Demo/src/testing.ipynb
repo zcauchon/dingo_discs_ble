{
 "cells": [
  {
   "cell_type": "code",
   "execution_count": 92,
   "metadata": {},
   "outputs": [],
   "source": [
    "arr = '55:61:01:00:00:00:ff:07:00:00:00:00:00:00:fb:ff:00:00:3b:e2'"
   ]
  },
  {
   "cell_type": "code",
   "execution_count": 104,
   "metadata": {},
   "outputs": [
    {
     "data": {
      "text/plain": [
       "'00'"
      ]
     },
     "execution_count": 104,
     "metadata": {},
     "output_type": "execute_result"
    }
   ],
   "source": [
    "arr[9:11]"
   ]
  },
  {
   "cell_type": "code",
   "execution_count": 99,
   "metadata": {},
   "outputs": [],
   "source": [
    "data = ['55:61:ab:ff:90:ff:f8:07:fc:ff:01:00:00:00:ab:fd:bb:01:ee:e9',\n",
    "        '55:61:be:01:88:f5:1e:40:f4:ff:07:00:0b:00:a9:fd:bc:01:f7:e9',\n",
    "        '55:61:c8:01:9c:f5:ec:3f:f0:ff:0b:00:0b:00:a9:fd:bc:01:f7:e9',\n",
    "        '55:61:e6:01:d2:f5:3e:40:f4:ff:08:00:0b:00:a9:fd:bc:01:f7:e9',\n",
    "        '55:61:84:01:42:f5:08:40:f4:ff:0e:00:0a:00:a9:fd:bc:01:f7:e9',\n",
    "        '55:61:ac:01:62:f5:cc:3f:f6:ff:09:00:0b:00:a9:fd:bc:01:f7:e9',\n",
    "        '55:61:a0:01:6a:f5:d4:3f:f7:ff:07:00:0c:00:a9:fd:bc:01:f7:e9',\n",
    "        '55:61:cc:01:0c:f6:fc:3f:ec:ff:0b:00:0d:00:a9:fd:bc:01:f7:e9',\n",
    "        '55:61:9e:01:4a:f5:e4:3f:f9:ff:0a:00:09:00:a9:fd:bc:01:f7:e9',\n",
    "        '55:61:b4:01:80:f5:ec:3f:f0:ff:09:00:0b:00:a9:fd:bc:01:f7:e9',\n",
    "        '55:61:72:01:42:f5:be:3f:ee:ff:15:00:0d:00:a9:fd:bc:01:f7:e9',\n",
    "        '55:61:92:01:74:f5:e4:3f:f7:ff:19:00:0c:00:a9:fd:bc:01:f7:e9',\n",
    "        '55:61:d0:06:7c:f5:da:3e:fc:ff:9d:01:95:fe:a9:fd:bc:01:f7:e9',\n",
    "        '55:61:52:01:9a:f5:9a:3f:9b:ff:e4:00:ec:ff:a9:fd:bc:01:f7:e9',\n",
    "        '55:61:de:03:f2:f1:d4:41:c4:fe:04:fc:8d:fe:a9:fd:bc:01:f7:e9',\n",
    "        '55:61:42:0a:46:f0:66:42:9f:fc:eb:fc:a0:fe:a9:fd:bc:01:f7:e9',\n",
    "        '55:61:3c:11:cc:eb:dc:3d:41:01:7f:ec:bd:fa:a9:fd:bc:01:f7:e9',]"
   ]
  },
  {
   "cell_type": "code",
   "execution_count": 111,
   "metadata": {},
   "outputs": [
    {
     "name": "stdout",
     "output_type": "stream",
     "text": [
      "313.19326171875 Acceleration: X(171, 255), Y(144, 255), Z(248, 7)\n",
      "2.1341796875 Acceleration: X(190, 1), Y(136, 245), Z(30, 64)\n",
      "2.18203125 Acceleration: X(200, 1), Y(156, 245), Z(236, 63)\n",
      "2.3255859375 Acceleration: X(230, 1), Y(210, 245), Z(62, 64)\n",
      "1.856640625 Acceleration: X(132, 1), Y(66, 245), Z(8, 64)\n",
      "2.0480468750000003 Acceleration: X(172, 1), Y(98, 245), Z(204, 63)\n",
      "1.990625 Acceleration: X(160, 1), Y(106, 245), Z(212, 63)\n",
      "2.201171875 Acceleration: X(204, 1), Y(12, 246), Z(252, 63)\n",
      "1.9810546875000001 Acceleration: X(158, 1), Y(74, 245), Z(228, 63)\n",
      "2.086328125 Acceleration: X(180, 1), Y(128, 245), Z(236, 63)\n",
      "1.7705078125000002 Acceleration: X(114, 1), Y(66, 245), Z(190, 63)\n",
      "1.9236328125000002 Acceleration: X(146, 1), Y(116, 245), Z(228, 63)\n",
      "8.3453125 Acceleration: X(208, 6), Y(124, 245), Z(218, 62)\n",
      "1.6173828125 Acceleration: X(82, 1), Y(154, 245), Z(154, 63)\n",
      "4.7373046875 Acceleration: X(222, 3), Y(242, 241), Z(212, 65)\n",
      "12.565820312500001 Acceleration: X(66, 10), Y(70, 240), Z(102, 66)\n",
      "21.112109375000003 Acceleration: X(60, 17), Y(204, 235), Z(220, 61)\n"
     ]
    },
    {
     "data": {
      "text/plain": [
       "[None,\n",
       " None,\n",
       " None,\n",
       " None,\n",
       " None,\n",
       " None,\n",
       " None,\n",
       " None,\n",
       " None,\n",
       " None,\n",
       " None,\n",
       " None,\n",
       " None,\n",
       " None,\n",
       " None,\n",
       " None,\n",
       " None]"
      ]
     },
     "execution_count": 111,
     "metadata": {},
     "output_type": "execute_result"
    }
   ],
   "source": [
    "def process_record(row: str):\n",
    "    axl = int(row[6:8],16)\n",
    "    axh = int(row[9:11],16)\n",
    "    ayl = int(row[12:14],16)\n",
    "    ayh = int(row[15:17],16)\n",
    "    azl = int(row[18:20],16)\n",
    "    azh = int(row[21:23],16)\n",
    "    print('Acceleration:', ((axh<<8)|axl)/32768*(16*9.8), f'X({axl}, {axh}), Y({ayl}, {ayh}), Z({azl}, {azh})')\n",
    "\n",
    "[process_record(x) for x in data]"
   ]
  }
 ],
 "metadata": {
  "kernelspec": {
   "display_name": "disc_sense",
   "language": "python",
   "name": "python3"
  },
  "language_info": {
   "codemirror_mode": {
    "name": "ipython",
    "version": 3
   },
   "file_extension": ".py",
   "mimetype": "text/x-python",
   "name": "python",
   "nbconvert_exporter": "python",
   "pygments_lexer": "ipython3",
   "version": "3.9.9"
  },
  "orig_nbformat": 4
 },
 "nbformat": 4,
 "nbformat_minor": 2
}
